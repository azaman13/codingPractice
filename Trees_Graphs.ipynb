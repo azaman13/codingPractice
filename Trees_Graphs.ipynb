{
 "cells": [
  {
   "cell_type": "markdown",
   "metadata": {},
   "source": [
    "# 1. Given a binary tree, return a list of its branch sum. Basically path sum from root to leaf node"
   ]
  },
  {
   "cell_type": "code",
   "execution_count": 1,
   "metadata": {},
   "outputs": [],
   "source": [
    "# This is the class of the input root. Do not edit it.\n",
    "class BinaryTree:\n",
    "    def __init__(self, value):\n",
    "        self.value = value\n",
    "        self.left = None\n",
    "        self.right = None"
   ]
  },
  {
   "cell_type": "code",
   "execution_count": 2,
   "metadata": {},
   "outputs": [],
   "source": [
    "def branchSum(root):\n",
    "    array = []\n",
    "    running_sum = 0\n",
    "    return computeRootToLeafSum(root, array, running_sum)"
   ]
  },
  {
   "cell_type": "code",
   "execution_count": null,
   "metadata": {},
   "outputs": [],
   "source": [
    "def computeRootToLeafSum(root, array, running_sum):\n",
    "    current_node = root\n",
    "    value = current_node.value + running_sum\n",
    "    \n",
    "    if current_node.left is None and current_node.right is None:\n",
    "        return array.append(current_node.value + running_sum)\n",
    "    \n",
    "    # if the node has left child\n",
    "    if current_node.left is not None:\n",
    "        computeRootToLeafSum(current_node.left, array, value)\n",
    "        \n",
    "    # if the node has right child\n",
    "    if current_node.right is not None:\n",
    "        computeRootToLeafSum(current_node.right, array, value)"
   ]
  },
  {
   "cell_type": "markdown",
   "metadata": {},
   "source": [
    "We have to traverse all the nodes (n). So runtime is O(n). Space complexity: O(n) also because in a tree the number of leaves are in the order of n/2 aproximately and eventually the array that is passed between the function is of length n/2, on average, so O(n/2) = O(n)"
   ]
  },
  {
   "cell_type": "markdown",
   "metadata": {},
   "source": [
    "# 2 Invert binary tree. Basically swap every left node with it's right node"
   ]
  },
  {
   "cell_type": "markdown",
   "metadata": {},
   "source": [
    "idea is at a given node, if it is none, there is nothing to invert, and we just return\n",
    "otherwise, we swap the left and right nodes and recursively call the invert function on the \n",
    "\"new\" left and right node respectively\n",
    "since we go over every node in the tree, and at every node we simly swap the nodes which takes constant times, the runtime is O(n)\n",
    "space time: since recursive, every recursive call is stored in the stack. "
   ]
  },
  {
   "cell_type": "code",
   "execution_count": 8,
   "metadata": {},
   "outputs": [],
   "source": [
    "def invertBT(tree):\n",
    "    # base case\n",
    "    if tree is None:\n",
    "        return\n",
    "    else:\n",
    "        # swap the left and right nodes\n",
    "        tmpNode = tree.left\n",
    "        tree.left = tree.right\n",
    "        tree.right = tmpNode\n",
    "        # alternate way of swapping\n",
    "        # tree.left, tree.right = tree.right, tree.left\n",
    "        invertBT(tree.left)\n",
    "        invertBT(tree.right)\n",
    "# T: O(n)\n",
    "# S: well, think about it. \n",
    "#     we are making rec calls for every node. esp for every node we make recursive call on the left child and then right child. Notice, \n",
    "#     we actually don't get to the right side rec call untill we finish the left rec call. then the left rec call makes 2 more calls on its left and right\n",
    "#     nodes. so the longest set of rec calls is the depth of the tree.  suppose d is the depth. the space time is O(d)\n",
    "#     For any binary tree, on average, d = lg n. so space time can be also, O(log n)"
   ]
  },
  {
   "cell_type": "code",
   "execution_count": 9,
   "metadata": {},
   "outputs": [],
   "source": [
    "# here we will use Breadth first search method to go level by level using a queue\n",
    "def iterativeInvertBT(tree):\n",
    "    queue = []\n",
    "    queue.append(tree)\n",
    "    \n",
    "    while len(queue) > 0:\n",
    "        node = queue.pop(0)\n",
    "        \n",
    "        if node is None:\n",
    "            return\n",
    "        else:\n",
    "            node.left, node.right = node.right, node.left\n",
    "            queue.append(node.left)\n",
    "            queue.append(node.right)\n",
    "\n",
    "# T: O(n)\n",
    "# S: O(n) because the queue grows largest at the bottom leaf level that can have roughly at most around n/2 nodes.\n",
    "    "
   ]
  },
  {
   "cell_type": "code",
   "execution_count": null,
   "metadata": {},
   "outputs": [],
   "source": []
  },
  {
   "cell_type": "code",
   "execution_count": null,
   "metadata": {},
   "outputs": [],
   "source": []
  },
  {
   "cell_type": "code",
   "execution_count": null,
   "metadata": {},
   "outputs": [],
   "source": []
  }
 ],
 "metadata": {
  "kernelspec": {
   "display_name": "Python 3",
   "language": "python",
   "name": "python3"
  },
  "language_info": {
   "codemirror_mode": {
    "name": "ipython",
    "version": 3
   },
   "file_extension": ".py",
   "mimetype": "text/x-python",
   "name": "python",
   "nbconvert_exporter": "python",
   "pygments_lexer": "ipython3",
   "version": "3.7.4"
  }
 },
 "nbformat": 4,
 "nbformat_minor": 4
}
